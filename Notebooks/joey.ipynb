{
 "cells": [
  {
   "cell_type": "code",
   "execution_count": null,
   "id": "769fb7a2",
   "metadata": {
    "vscode": {
     "languageId": "plaintext"
    }
   },
   "outputs": [],
   "source": [
    "import pandas as pd\n",
    "import numpy as np\n",
    "import matplotlib.pyplot as plt\n",
    "import seaborn as sns"
   ]
  },
  {
   "cell_type": "code",
   "execution_count": null,
   "id": "9114c344",
   "metadata": {
    "vscode": {
     "languageId": "plaintext"
    }
   },
   "outputs": [],
   "source": [
    "inbound = pd.read_csv('data/inbound.csv')\n",
    "outbound = pd.read_csv('data/outbound.csv')\n",
    "inventory = pd.read_csv('data/inventory.csv')\n",
    "operation = pd.read_csv('data/operationCost.csv')\n",
    "material = pd.read_csv('data/materialMaster.csv')"
   ]
  }
 ],
 "metadata": {
  "language_info": {
   "name": "python"
  }
 },
 "nbformat": 4,
 "nbformat_minor": 5
}
