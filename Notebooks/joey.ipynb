{
 "cells": [
  {
   "cell_type": "code",
   "execution_count": 14,
   "id": "769fb7a2",
   "metadata": {},
   "outputs": [],
   "source": [
    "import pandas as pd\n",
    "import numpy as np\n",
    "import matplotlib.pyplot as plt\n",
    "import seaborn as sns\n",
    "import os"
   ]
  },
  {
   "cell_type": "code",
   "execution_count": 15,
   "id": "9114c344",
   "metadata": {},
   "outputs": [],
   "source": [
    "data_files = {\n",
    "\t'inbound': '../Data/Inbound.csv',\n",
    "\t'outbound': '../Data/Outbound.csv',\n",
    "\t'inventory': '../Data/Inventory.csv',\n",
    "\t'operation': '../Data/OperationCost.csv',\n",
    "\t'material': '../Data/MaterialMaster.csv'\n",
    "}\n",
    "\n",
    "loaded_data = {}\n",
    "for name, path in data_files.items():\n",
    "\tif not os.path.exists(path):\n",
    "\t\tprint(f\"Warning: File not found: {path}. Skipping loading '{name}'.\")\n",
    "\t\tloaded_data[name] = None\n",
    "\telse:\n",
    "\t\tloaded_data[name] = pd.read_csv(path)\n",
    "\n",
    "inbound = loaded_data['inbound']\n",
    "outbound = loaded_data['outbound']\n",
    "inventory = loaded_data['inventory']\n",
    "operation = loaded_data['operation']\n",
    "material = loaded_data['material']"
   ]
  },
  {
   "cell_type": "markdown",
   "id": "56a1fb72",
   "metadata": {},
   "source": [
    "<h2>Used PowerBI to create visualizations for making insights.</h2>\n",
    "\n",
    "Top 5 materials based on inbound amount (MT): MAT-0145, MAT-0332, MAT-0035, MAT-0144, MAT-0112"
   ]
  },
  {
   "cell_type": "code",
   "execution_count": null,
   "id": "7f14a472",
   "metadata": {},
   "outputs": [
    {
     "name": "stdout",
     "output_type": "stream",
     "text": [
      "Risk Summary by Plant:\n",
      "            PLANT_NAME Risk_Level  UNRESRICTED_STOCK  Financial_Loss\n",
      "0      CHINA-WAREHOUSE    Expired          396379268     704186998.4\n",
      "1      CHINA-WAREHOUSE  High Risk           46631299             0.0\n",
      "2      CHINA-WAREHOUSE       Safe          307943232             0.0\n",
      "3  SINGAPORE-WAREHOUSE    Expired          305674385      81665905.1\n",
      "4  SINGAPORE-WAREHOUSE  High Risk           26399585             0.0\n",
      "5  SINGAPORE-WAREHOUSE       Safe          228419784             0.0\n",
      "\n",
      "Priority Action: Address CHINA-WAREHOUSE with highest financial loss.\n"
     ]
    }
   ],
   "source": [
    "inventory['BALANCE_AS_OF_DATE'] = pd.to_datetime(inventory['BALANCE_AS_OF_DATE'])\n",
    "today = pd.to_datetime('2024-12-31')\n",
    "\n",
    "# Merge with MaterialMaster\n",
    "inventory = inventory.drop(columns=['SHELF_LIFE_IN_MONTH'], errors='ignore')\n",
    "inventory = inventory.merge(material[['MATERIAL_NAME', 'SHELF_LIFE_IN_MONTH', 'DOWNGRADE_VALUE_LOST_PERCENT']], \n",
    "                           on='MATERIAL_NAME', how='left')\n",
    "\n",
    "# Inventory Age and Risk Level\n",
    "inventory['Inventory_Age_Months'] = (today - inventory['BALANCE_AS_OF_DATE']).dt.days // 30\n",
    "inventory['Risk_Level'] = np.where(inventory['SHELF_LIFE_IN_MONTH'].isna(), 'Unknown',\n",
    "                                  np.where(inventory['Inventory_Age_Months'] >= inventory['SHELF_LIFE_IN_MONTH'], 'Expired',\n",
    "                                           np.where(inventory['Inventory_Age_Months'] >= inventory['SHELF_LIFE_IN_MONTH'] * 0.8, 'High Risk', 'Safe')))\n",
    "\n",
    "# Financial Loss\n",
    "inventory['Financial_Loss'] = np.where(inventory['Risk_Level'] == 'Expired',\n",
    "                                      inventory['STOCK_SELL_VALUE'].fillna(0) * (inventory['DOWNGRADE_VALUE_LOST_PERCENT'].fillna(50) / 100),\n",
    "                                      0)\n",
    "\n",
    "# Summarize risks by plant\n",
    "risk_summary = inventory.groupby(['PLANT_NAME', 'Risk_Level']).agg({'UNRESRICTED_STOCK': 'sum', 'Financial_Loss': 'sum'}).reset_index()\n",
    "\n",
    "# Insight\n",
    "print(\"Risk Summary by Plant:\")\n",
    "print(risk_summary)\n",
    "max_loss_plant = risk_summary.loc[risk_summary['Financial_Loss'].idxmax()]['PLANT_NAME']\n",
    "print(f\"\\nPriority Action: Address {max_loss_plant} with highest financial loss.\")"
   ]
  },
  {
   "cell_type": "code",
   "execution_count": null,
   "id": "fc3684d7",
   "metadata": {},
   "outputs": [],
   "source": []
  }
 ],
 "metadata": {
  "kernelspec": {
   "display_name": "Python 3",
   "language": "python",
   "name": "python3"
  },
  "language_info": {
   "codemirror_mode": {
    "name": "ipython",
    "version": 3
   },
   "file_extension": ".py",
   "mimetype": "text/x-python",
   "name": "python",
   "nbconvert_exporter": "python",
   "pygments_lexer": "ipython3",
   "version": "3.11.9"
  }
 },
 "nbformat": 4,
 "nbformat_minor": 5
}
